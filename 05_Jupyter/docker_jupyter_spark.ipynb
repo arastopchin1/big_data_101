{
 "cells": [
  {
   "cell_type": "code",
   "execution_count": 1,
   "metadata": {},
   "outputs": [],
   "source": [
    "from pyspark.sql import SparkSession\n",
    "from pyspark.sql import *\n",
    "from pyspark.sql.types import *\n",
    "from pyspark.sql.functions import *"
   ]
  },
  {
   "cell_type": "code",
   "execution_count": 2,
   "metadata": {},
   "outputs": [],
   "source": [
    "sc = SparkSession.builder.getOrCreate()\n",
    "data_path = '/data/train.csv'\n",
    "\n",
    "schema = StructType([\n",
    "    StructField(\"date_time\", LongType(), True),\n",
    "    StructField(\"site_name\", LongType(), True),\n",
    "    StructField(\"posa_continent\", LongType(), True),\n",
    "    StructField(\"user_location_country\", LongType(), True),\n",
    "    StructField(\"user_location_region\", LongType(), True),\n",
    "    StructField(\"user_location_city\", LongType(), True),\n",
    "    StructField(\"orig_destination_distance\", DoubleType(), True),\n",
    "    StructField(\"user_id\", LongType(), True),\n",
    "    StructField(\"is_mobile\", ByteType(), True),\n",
    "    StructField(\"is_package\", ByteType(), True),\n",
    "    StructField(\"channel\", LongType(), True),\n",
    "    StructField(\"srch_ci\", StringType(), True),\n",
    "    StructField(\"srch_co\", StringType(), True),\n",
    "    StructField(\"srch_adults_cnt\", ByteType(), True),\n",
    "    StructField(\"srch_children_cnt\", ByteType(), True),\n",
    "    StructField(\"srch_rm_cnt\", ShortType(), True),\n",
    "    StructField(\"srch_destination_id\", LongType(), True),\n",
    "    StructField(\"srch_destination_type_id\", LongType(), True),\n",
    "    StructField(\"is_booking\", ByteType(), True),\n",
    "    StructField(\"cnt\", LongType(), True),\n",
    "    StructField(\"hotel_continent\", ByteType(), True),\n",
    "    StructField(\"hotel_country\", LongType(), True),\n",
    "    StructField(\"hotel_market\", LongType(), True),\n",
    "    StructField(\"hotel_cluster\", LongType(), True),\n",
    "    StructField(\"__index_level_0__\", LongType(), True)\n",
    "])"
   ]
  },
  {
   "cell_type": "code",
   "execution_count": 4,
   "metadata": {},
   "outputs": [
    {
     "name": "stdout",
     "output_type": "stream",
     "text": [
      "+---------------+-------------+------------+-------+\n",
      "|hotel_continent|hotel_country|hotel_market|  count|\n",
      "+---------------+-------------+------------+-------+\n",
      "|              2|           50|         628|1190143|\n",
      "|              2|           50|         675|1007502|\n",
      "|              4|            8|         110| 588213|\n",
      "+---------------+-------------+------------+-------+\n",
      "only showing top 3 rows\n",
      "\n"
     ]
    }
   ],
   "source": [
    "data = sc.read.schema(schema) \\\n",
    "    .option(\"header\", \"false\") \\\n",
    "    .option(\"delimiter\", \",\") \\\n",
    "    .csv(data_path)\n",
    "\n",
    "result = (\n",
    "    data.select('hotel_continent', 'hotel_country', 'hotel_market', 'srch_adults_cnt')\n",
    "    .filter(data['srch_adults_cnt'] == '2')\n",
    "    .groupBy(data['hotel_continent'], data['hotel_country'], data['hotel_market']).count()\n",
    ")\n",
    "\n",
    "result = result.orderBy(result['count'], ascending=False)\n",
    "result.show(3)"
   ]
  }
 ],
 "metadata": {
  "kernelspec": {
   "display_name": "Python 3",
   "language": "python",
   "name": "python3"
  },
  "language_info": {
   "codemirror_mode": {
    "name": "ipython",
    "version": 3
   },
   "file_extension": ".py",
   "mimetype": "text/x-python",
   "name": "python",
   "nbconvert_exporter": "python",
   "pygments_lexer": "ipython3",
   "version": "3.7.6"
  }
 },
 "nbformat": 4,
 "nbformat_minor": 4
}
